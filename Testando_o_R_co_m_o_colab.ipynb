{
  "nbformat": 4,
  "nbformat_minor": 0,
  "metadata": {
    "colab": {
      "name": "Testando o R co m o colab",
      "provenance": [],
      "authorship_tag": "ABX9TyNrYnfIDxJEOu+Hc2yuJuxv",
      "include_colab_link": true
    },
    "kernelspec": {
      "name": "python3",
      "display_name": "Python 3"
    },
    "language_info": {
      "name": "python"
    }
  },
  "cells": [
    {
      "cell_type": "markdown",
      "metadata": {
        "id": "view-in-github",
        "colab_type": "text"
      },
      "source": [
        "<a href=\"https://colab.research.google.com/github/rodrigomuribec/estatisticos/blob/master/Testando_o_R_co_m_o_colab.ipynb\" target=\"_parent\"><img src=\"https://colab.research.google.com/assets/colab-badge.svg\" alt=\"Open In Colab\"/></a>"
      ]
    },
    {
      "cell_type": "code",
      "metadata": {
        "id": "yA6Rgg0nNRC_"
      },
      "source": [
        ""
      ],
      "execution_count": null,
      "outputs": []
    },
    {
      "cell_type": "markdown",
      "metadata": {
        "id": "r52Y4TFFNme0"
      },
      "source": [
        "Aqui estamos testando uma copia no github\n"
      ]
    },
    {
      "cell_type": "markdown",
      "metadata": {
        "id": "itFh5WhkNq-A"
      },
      "source": [
        ""
      ]
    }
  ]
}